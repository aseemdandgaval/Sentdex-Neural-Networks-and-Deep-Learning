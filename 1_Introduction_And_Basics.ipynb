{
 "cells": [
  {
   "cell_type": "markdown",
   "metadata": {
    "id": "f436498d"
   },
   "source": [
    "# Sentdex: Neural Networks and Deep Learning 1: Introduction\n"
   ]
  },
  {
   "cell_type": "markdown",
   "metadata": {
    "id": "93476c21"
   },
   "source": [
    "What is Pytorch?    \n",
    "Basically a library to help with 2D Array maths. Numpy with helpper functions, no need of building optimizers and back propagation etc. \n",
    "\n",
    "Problem with NumPy - Doesn't run on the GPU.\n",
    "\n",
    "GPU - large no. of small calculations like - adjusting weights in a NN    \n",
    "More cores (thousands), thus much faster.\n",
    "\n",
    "CPU - small no. of large calcualtions\n",
    "\n"
   ]
  },
  {
   "cell_type": "markdown",
   "metadata": {
    "id": "87u-HVrDsg0A"
   },
   "source": [
    "Tensor is basically a 2D array\n",
    "\n",
    "\n",
    "\n",
    "\n"
   ]
  },
  {
   "cell_type": "code",
   "execution_count": 1,
   "metadata": {
    "colab": {
     "base_uri": "https://localhost:8080/"
    },
    "id": "91a49788",
    "outputId": "06ed9b37-ac4b-4f2d-f3b8-3f252d1f0bfa",
    "scrolled": false
   },
   "outputs": [
    {
     "output_type": "stream",
     "name": "stdout",
     "text": [
      "tensor([10.,  3.])\n"
     ]
    }
   ],
   "source": [
    "import torch\n",
    "\n",
    "x = torch.Tensor([5,3])\n",
    "y = torch.Tensor([2,1])\n",
    "\n",
    "print(x*y)"
   ]
  },
  {
   "cell_type": "code",
   "execution_count": 2,
   "metadata": {
    "colab": {
     "base_uri": "https://localhost:8080/"
    },
    "id": "340618a9",
    "outputId": "3c0b7e93-7fc8-4824-a16a-e371a158f585"
   },
   "outputs": [
    {
     "output_type": "stream",
     "name": "stdout",
     "text": [
      "tensor([[0., 0., 0., 0., 0.],\n        [0., 0., 0., 0., 0.]])\n"
     ]
    }
   ],
   "source": [
    "x = torch.zeros(2,5)\n",
    "print(x)"
   ]
  },
  {
   "cell_type": "code",
   "execution_count": 3,
   "metadata": {
    "colab": {
     "base_uri": "https://localhost:8080/"
    },
    "id": "RWLAMv-ftKUD",
    "outputId": "f58a21ce-0b5a-40aa-bf04-8ccdc5437fbc"
   },
   "outputs": [
    {
     "output_type": "execute_result",
     "data": {
      "text/plain": [
       "torch.Size([2, 5])"
      ]
     },
     "metadata": {},
     "execution_count": 3
    }
   ],
   "source": [
    "x.shape\n"
   ]
  },
  {
   "cell_type": "code",
   "execution_count": 4,
   "metadata": {
    "colab": {
     "base_uri": "https://localhost:8080/"
    },
    "id": "uPflydpetRtD",
    "outputId": "9c809165-75f1-42ca-ca39-fce99ecde37c"
   },
   "outputs": [
    {
     "output_type": "stream",
     "name": "stdout",
     "text": [
      "tensor([[0.6537, 0.0316, 0.9165, 0.9342, 0.8911],\n        [0.9869, 0.1963, 0.5063, 0.4329, 0.5754]])\n"
     ]
    }
   ],
   "source": [
    "y = torch.rand([2,5])\n",
    "print(y)"
   ]
  },
  {
   "cell_type": "markdown",
   "metadata": {
    "id": "uHptmpawtnrt"
   },
   "source": [
    "For example, an image is 64x64 pixels, you cannot insert the 64x64 matrix into the neural network , so we flatten it into a 1D (1, 4096) matrix"
   ]
  },
  {
   "cell_type": "code",
   "execution_count": 5,
   "metadata": {
    "colab": {
     "base_uri": "https://localhost:8080/"
    },
    "id": "hvq8YBibtzKb",
    "outputId": "b271efce-5471-4ae1-8ec3-dceed894619d"
   },
   "outputs": [
    {
     "output_type": "stream",
     "name": "stdout",
     "text": [
      "tensor([[0.6537, 0.0316, 0.9165, 0.9342, 0.8911, 0.9869, 0.1963, 0.5063, 0.4329,\n         0.5754]])\n"
     ]
    }
   ],
   "source": [
    "y = y.view([1,10])\n",
    "print(y)  "
   ]
  }
 ],
 "metadata": {
  "colab": {
   "collapsed_sections": [],
   "name": " Introduction and Basics.ipynb",
   "provenance": []
  },
  "kernelspec": {
   "name": "python385jvsc74a57bd0819586dbb9d8d6d1e6af05cc774517be67b20e21b11f4cc79b18d7e45616f5a9",
   "display_name": "Python 3.8.5 64-bit ('Pytorch': conda)"
  },
  "language_info": {
   "codemirror_mode": {
    "name": "ipython",
    "version": 3
   },
   "file_extension": ".py",
   "mimetype": "text/x-python",
   "name": "python",
   "nbconvert_exporter": "python",
   "pygments_lexer": "ipython3",
   "version": "3.8.5"
  }
 },
 "nbformat": 4,
 "nbformat_minor": 5
}